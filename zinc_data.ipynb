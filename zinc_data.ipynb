{
  "nbformat": 4,
  "nbformat_minor": 0,
  "metadata": {
    "colab": {
      "provenance": [],
      "authorship_tag": "ABX9TyN24lqmgSbR/hmCIhxYjBkV",
      "include_colab_link": true
    },
    "kernelspec": {
      "name": "python3",
      "display_name": "Python 3"
    },
    "language_info": {
      "name": "python"
    },
    "accelerator": "GPU",
    "gpuClass": "standard"
  },
  "cells": [
    {
      "cell_type": "markdown",
      "metadata": {
        "id": "view-in-github",
        "colab_type": "text"
      },
      "source": [
        "<a href=\"https://colab.research.google.com/github/niranjana2222/Discovering-Potential-Skin-Cancer-Drugs-/blob/main/zinc_data.ipynb\" target=\"_parent\"><img src=\"https://colab.research.google.com/assets/colab-badge.svg\" alt=\"Open In Colab\"/></a>"
      ]
    },
    {
      "cell_type": "code",
      "execution_count": 1,
      "metadata": {
        "colab": {
          "base_uri": "https://localhost:8080/"
        },
        "id": "71w5z9nc4YkY",
        "outputId": "fc34ca11-3f22-4fc3-df13-7d6f1460deb5"
      },
      "outputs": [
        {
          "output_type": "stream",
          "name": "stdout",
          "text": [
            "             nAcid        ALogP       ALogp2          AMR         apol  \\\n",
            "count  3289.000000  3289.000000  3289.000000  3289.000000  3289.000000   \n",
            "mean      0.015810    -0.674722     2.018255    33.209828    39.915665   \n",
            "std       0.183884     1.250392     2.843282    14.010525     9.412443   \n",
            "min       0.000000    -5.579100     0.000000     0.000000    14.837965   \n",
            "25%       0.000000    -1.503000     0.194657    23.510500    33.105137   \n",
            "50%       0.000000    -0.634800     0.894538    32.175000    40.070688   \n",
            "75%       0.000000     0.163700     2.700764    41.418200    47.002239   \n",
            "max       4.000000     4.163400    31.126357    96.113100    65.675720   \n",
            "\n",
            "        naAromAtom    nAromBond        nAtom   nHeavyAtom           nH  ...  \\\n",
            "count  3289.000000  3289.000000  3289.000000  3289.000000  3289.000000  ...   \n",
            "mean      9.175737     9.993615    33.904834    18.503801    15.401034  ...   \n",
            "std       4.430335     4.763726     8.563581     4.017987     5.658307  ...   \n",
            "min       0.000000     0.000000    12.000000     7.000000     2.000000  ...   \n",
            "25%       6.000000     6.000000    28.000000    16.000000    11.000000  ...   \n",
            "50%      10.000000    11.000000    33.000000    19.000000    15.000000  ...   \n",
            "75%      12.000000    12.000000    40.000000    22.000000    19.000000  ...   \n",
            "max      24.000000    28.000000    64.000000    26.000000    40.000000  ...   \n",
            "\n",
            "               P1s          P2s          E1s          E2s          E3s  \\\n",
            "count  2799.000000  2799.000000  2799.000000  2799.000000  2799.000000   \n",
            "mean      0.721199     0.214423     0.532235     0.455948     0.368090   \n",
            "std       0.198613     0.117755     0.153230     0.271826     0.308157   \n",
            "min       0.361528    -3.834018     0.322584     0.205970     0.034038   \n",
            "25%       0.642104     0.142335     0.490927     0.405208     0.314900   \n",
            "50%       0.731355     0.203801     0.531805     0.454541     0.370159   \n",
            "75%       0.799781     0.278621     0.569987     0.495951     0.421040   \n",
            "max       9.632484     0.467219     8.043690    14.433428    16.066769   \n",
            "\n",
            "                Ts           As           Vs           Ks           Ds  \n",
            "count  2799.000000  2799.000000  2799.000000  2799.000000  2799.000000  \n",
            "mean     13.512439    37.482884    74.823223     0.589762     1.356273  \n",
            "std       4.362834    20.077310    45.396331     0.291633     0.712170  \n",
            "min       2.015146  -262.957511     8.910337     0.051189     0.948767  \n",
            "25%      10.486238    23.624879    44.900777     0.468608     1.265891  \n",
            "50%      13.066437    34.078149    66.725520     0.597033     1.341135  \n",
            "75%      16.000150    48.631792    97.168099     0.699672     1.418556  \n",
            "max      41.770088   137.600549  1189.213532    13.948727    38.543887  \n",
            "\n",
            "[8 rows x 1875 columns]\n",
            "   nAcid   ALogP    ALogp2      AMR       apol  naAromAtom  nAromBond  nAtom  \\\n",
            "0      0  0.6916  0.478311  55.8212  47.002239           6          6     43   \n",
            "1      0 -1.2666  1.604276  29.5133  30.329137           6          6     25   \n",
            "2      0 -1.8685  3.491292  27.1312  42.807895          12         12     35   \n",
            "3      0 -1.3324  1.775290  45.6769  39.727895           9         10     34   \n",
            "4      0  1.5384  2.366675  59.7768  34.170688           0          0     30   \n",
            "\n",
            "   nHeavyAtom  nH  ...       P1s       P2s       E1s       E2s       E3s  \\\n",
            "0          20  23  ...  0.841663  0.109944  0.487694  0.344774  0.420046   \n",
            "1          16   9  ...  0.782073  0.149714  0.501335  0.453679  0.409763   \n",
            "2          20  15  ...  0.589547  0.351953  0.459679  0.420344  0.443612   \n",
            "3          19  15  ...       NaN       NaN       NaN       NaN       NaN   \n",
            "4          14  16  ...  0.803482  0.143381  0.508527  0.474014  0.327811   \n",
            "\n",
            "          Ts         As         Vs        Ks        Ds  \n",
            "0  18.931086  49.667541  98.980808  0.762495  1.252514  \n",
            "1  10.191799  18.764338  37.411448  0.673109  1.364777  \n",
            "2  13.080776  44.927543  85.176190  0.412251  1.323635  \n",
            "3        NaN        NaN        NaN       NaN       NaN  \n",
            "4  11.027013  20.126120  39.361169  0.705223  1.310352  \n",
            "\n",
            "[5 rows x 1875 columns]\n",
            "Size (3289, 1875)\n",
            "EE_Dzv     SpMax_Dzv         1.0\n",
            "SpMax_D    EE_D              1.0\n",
            "EE_D       SpMax_D           1.0\n",
            "SpMax_Dzv  EE_Dzv            1.0\n",
            "FNSA-1     FPSA-1            1.0\n",
            "                            ... \n",
            "Ds         nG12HeteroRing    NaN\n",
            "           nFHeteroRing      NaN\n",
            "           nF4HeteroRing     NaN\n",
            "           nF5HeteroRing     NaN\n",
            "           nTHeteroRing      NaN\n",
            "Length: 3515625, dtype: float64\n",
            "Corr\n",
            " 1.000000    1799\n",
            "0.010122      18\n",
            "0.009974      18\n",
            "0.015414      18\n",
            "0.975399      18\n",
            "            ... \n",
            "0.148572       2\n",
            "0.004231       2\n",
            "0.160019       2\n",
            "0.158262       2\n",
            "0.863168       2\n",
            "Length: 1306350, dtype: int64\n",
            "VR1_Dzs    1.200009e+07\n",
            "VR1_Dzi    1.200007e+07\n",
            "VR1_DzZ    1.200007e+07\n",
            "VR1_Dzm    1.200007e+07\n",
            "VR1_Dze    1.200007e+07\n",
            "               ...     \n",
            "n9Ring     0.000000e+00\n",
            "SddsN      0.000000e+00\n",
            "SaOm       0.000000e+00\n",
            "SsSiH3     0.000000e+00\n",
            "minssBH    0.000000e+00\n",
            "Length: 1875, dtype: float64\n",
            "Range\n",
            " 0.000000     202\n",
            "2.000000      31\n",
            "1.000000      26\n",
            "3.000000      23\n",
            "4.000000      20\n",
            "            ... \n",
            "2.502627       1\n",
            "2.558647       1\n",
            "1.959607       1\n",
            "1.645793       1\n",
            "37.595121      1\n",
            "Length: 1461, dtype: int64\n",
            "Ds         490\n",
            "RDF95u     490\n",
            "RDF40u     490\n",
            "RDF45u     490\n",
            "RDF50u     490\n",
            "          ... \n",
            "ASP-7        0\n",
            "ASP-6        0\n",
            "ASP-5        0\n",
            "ASP-4        0\n",
            "minssBH      0\n",
            "Length: 1875, dtype: int64\n",
            "Null\n",
            " 490     431\n",
            "0      1444\n",
            "dtype: int64\n"
          ]
        }
      ],
      "source": [
        "import pandas as pd\n",
        "import numpy as np\n",
        "import matplotlib.pyplot as plt\n",
        "import seaborn as sns\n",
        "import os\n",
        "\n",
        "###Analyze Data####\n",
        "data = pd.read_csv('/content/zinc.csv')\n",
        "print(data.describe())\n",
        "print(data.head())\n",
        "print(\"Size\", data.shape)\n",
        "\n",
        "corr = data.corr().abs()\n",
        "corr2 = corr.unstack()\n",
        "print(corr2.sort_values(kind=\"quicksort\", ascending=False))\n",
        "print(\"Corr\\n\", corr2.value_counts())\n",
        "\n",
        "print((data.max()-data.min()).sort_values(kind=\"quicksort\", ascending=False))\n",
        "print(\"Range\\n\", (data.max()-data.min()).value_counts())\n",
        "\n",
        "print(data.isnull().sum().sort_values(kind=\"quicksort\", ascending=False))\n",
        "print(\"Null\\n\", data.isnull().sum().value_counts().sort_values(kind=\"quicksort\"))\n"
      ]
    },
    {
      "cell_type": "code",
      "source": [
        "#correlation graph \n",
        "corr3 = corr2.value_counts().rename_axis('unique_values').to_frame('counts')\n",
        "print(corr3)\n",
        "corr3[:1].plot(kind='barh', title='correlation')"
      ],
      "metadata": {
        "colab": {
          "base_uri": "https://localhost:8080/",
          "height": 567
        },
        "id": "XVIXYXk7TLev",
        "outputId": "65571c4e-a3fe-4b1c-878e-53a792ff4bee"
      },
      "execution_count": 2,
      "outputs": [
        {
          "output_type": "stream",
          "name": "stdout",
          "text": [
            "               counts\n",
            "unique_values        \n",
            "1.000000         1799\n",
            "0.010122           18\n",
            "0.009974           18\n",
            "0.015414           18\n",
            "0.975399           18\n",
            "...               ...\n",
            "0.148572            2\n",
            "0.004231            2\n",
            "0.160019            2\n",
            "0.158262            2\n",
            "0.863168            2\n",
            "\n",
            "[1306350 rows x 1 columns]\n"
          ]
        },
        {
          "output_type": "execute_result",
          "data": {
            "text/plain": [
              "<matplotlib.axes._subplots.AxesSubplot at 0x7f8c02306f40>"
            ]
          },
          "metadata": {},
          "execution_count": 2
        },
        {
          "output_type": "display_data",
          "data": {
            "text/plain": [
              "<Figure size 432x288 with 1 Axes>"
            ],
            "image/png": "[encoded data removed]"
          },
          "metadata": {
            "needs_background": "light"
          }
        }
      ]
    },
    {
      "cell_type": "code",
      "source": [
        "#some descriptor boxplots \n",
        "boxplot_nat = data.boxplot(column=['nAcid', 'ALogP', 'ALogp2' , 'AMR' , 'apol'])"
      ],
      "metadata": {
        "colab": {
          "base_uri": "https://localhost:8080/",
          "height": 267
        },
        "id": "JJi8PJqUKH17",
        "outputId": "bc6bb948-79de-46e4-81db-21a48f2c8506"
      },
      "execution_count": 3,
      "outputs": [
        {
          "output_type": "display_data",
          "data": {
            "text/plain": [
              "<Figure size 432x288 with 1 Axes>"
            ],
            "image/png": "[encoded data removed]"
          },
          "metadata": {
            "needs_background": "light"
          }
        }
      ]
    },
    {
      "cell_type": "code",
      "source": [
        "#null values\n",
        "null = data.isnull().sum().value_counts().rename_axis('unique_values').to_frame('counts')\n",
        "#null.plot(kind='barh')\n"
      ],
      "metadata": {
        "id": "c2qs8pghIzZV"
      },
      "execution_count": 4,
      "outputs": []
    },
    {
      "cell_type": "code",
      "source": [
        "data = data.dropna(axis=1)\n",
        "print(data.shape)"
      ],
      "metadata": {
        "colab": {
          "base_uri": "https://localhost:8080/"
        },
        "id": "qQsBMPJTyA9D",
        "outputId": "624fc7d8-77a6-4210-d394-a2e043e5b8fc"
      },
      "execution_count": 5,
      "outputs": [
        {
          "output_type": "stream",
          "name": "stdout",
          "text": [
            "(3289, 1444)\n"
          ]
        }
      ]
    },
    {
      "cell_type": "code",
      "source": [
        "data = data.dropna()\n",
        "print(data.shape)"
      ],
      "metadata": {
        "colab": {
          "base_uri": "https://localhost:8080/"
        },
        "id": "FmMNCyjJxFnJ",
        "outputId": "4206122b-0965-4d0b-8fb1-6621db609670"
      },
      "execution_count": 6,
      "outputs": [
        {
          "output_type": "stream",
          "name": "stdout",
          "text": [
            "(3289, 1444)\n"
          ]
        }
      ]
    },
    {
      "cell_type": "code",
      "source": [
        "\"\"\"\n",
        "#imputer try\n",
        "from sklearn.experimental import enable_iterative_imputer  # noqa\n",
        "from sklearn.impute import IterativeImputer\n",
        "\n",
        "for col in data.columns:\n",
        "    if np.inf in set(data[col]):\n",
        "        print(col, \" \", data[col].value_counts())\n",
        "\n",
        "data = data.replace([np.inf, -np.inf], np.nan)\n",
        "print(np.any(np.isnan(data)))\n",
        "print(np.all(np.isfinite(data)))\n",
        "\n",
        "imp_mean = IterativeImputer(random_state=0)\n",
        "imp_mean.fit(data)\n",
        "IterativeImputer(random_state=0)\n",
        "data2 = imp_mean.transform(data)\n",
        "print(data2.isnull().sum().sort_values(kind=\"quicksort\", ascending=False))\n",
        "print(\"Range\\n\", (data2.max()-data2.min()).value_counts())\n",
        "\"\"\"\n"
      ],
      "metadata": {
        "colab": {
          "base_uri": "https://localhost:8080/",
          "height": 178
        },
        "id": "DzuTR-03J3YA",
        "outputId": "009276d8-b406-46fe-e5ee-49f270efdbef"
      },
      "execution_count": 7,
      "outputs": [
        {
          "output_type": "execute_result",
          "data": {
            "text/plain": [
              "'\\n#imputer try\\nfrom sklearn.experimental import enable_iterative_imputer  # noqa\\nfrom sklearn.impute import IterativeImputer\\n\\nfor col in data.columns:\\n    if np.inf in set(data[col]):\\n        print(col, \" \", data[col].value_counts())\\n\\ndata = data.replace([np.inf, -np.inf], np.nan)\\nprint(np.any(np.isnan(data)))\\nprint(np.all(np.isfinite(data)))\\n\\nimp_mean = IterativeImputer(random_state=0)\\nimp_mean.fit(data)\\nIterativeImputer(random_state=0)\\ndata2 = imp_mean.transform(data)\\nprint(data2.isnull().sum().sort_values(kind=\"quicksort\", ascending=False))\\nprint(\"Range\\n\", (data2.max()-data2.min()).value_counts())\\n'"
            ],
            "application/vnd.google.colaboratory.intrinsic+json": {
              "type": "string"
            }
          },
          "metadata": {},
          "execution_count": 7
        }
      ]
    }
  ]
}