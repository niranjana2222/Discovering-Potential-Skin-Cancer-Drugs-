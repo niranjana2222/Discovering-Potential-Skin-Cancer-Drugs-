{
  "nbformat": 4,
  "nbformat_minor": 0,
  "metadata": {
    "colab": {
      "provenance": [],
      "authorship_tag": "ABX9TyPqRoqndH5T76Ui2gRAhQ5i",
      "include_colab_link": true
    },
    "kernelspec": {
      "name": "python3",
      "display_name": "Python 3"
    },
    "language_info": {
      "name": "python"
    },
    "accelerator": "GPU",
    "gpuClass": "standard"
  },
  "cells": [
    {
      "cell_type": "markdown",
      "metadata": {
        "id": "view-in-github",
        "colab_type": "text"
      },
      "source": [
        "<a href=\"https://colab.research.google.com/github/niranjana2222/Discovering-Potential-Skin-Cancer-Drugs-/blob/main/NN.ipynb\" target=\"_parent\"><img src=\"https://colab.research.google.com/assets/colab-badge.svg\" alt=\"Open In Colab\"/></a>"
      ]
    },
    {
      "cell_type": "code",
      "execution_count": 2,
      "metadata": {
        "colab": {
          "base_uri": "https://localhost:8080/"
        },
        "id": "71w5z9nc4YkY",
        "outputId": "359b8574-583b-4119-9508-34acba2e6295"
      },
      "outputs": [
        {
          "output_type": "stream",
          "name": "stdout",
          "text": [
            "Size (3288, 1876)\n",
            "Size (3289, 1876)\n",
            "Size (4798, 1876)\n"
          ]
        }
      ],
      "source": [
        "import pandas as pd\n",
        "import numpy as np\n",
        "import matplotlib.pyplot as plt\n",
        "import seaborn as sns\n",
        "import os\n",
        "\n",
        "#Get data\n",
        "cancer = pd.read_csv('/content/descriptors2.csv')\n",
        "#cancer['label'] = np.zeros((2525, 1)).tolist()\n",
        "cancer['label'] = 0\n",
        "print(\"Size\", cancer.shape)\n",
        "\n",
        "drugs = pd.read_csv('/content/zinc.csv')\n",
        "#drugs['label'] = np.ones((893, 1)).tolist()\n",
        "drugs['label'] = 1\n",
        "print(\"Size\", drugs.shape)\n",
        "\n",
        "data = pd.concat([cancer, drugs])\n",
        "\n",
        "#Clean data\n",
        "data = data.dropna()\n",
        "#del data['smiles']\n",
        "#data = data.drop('smiles',axis=1)\n",
        "print(\"Size\", data.shape)\n"
      ]
    },
    {
      "cell_type": "code",
      "source": [
        "from sklearn.model_selection import train_test_split\n",
        "from sklearn.metrics import accuracy_score\n",
        "labels = data['label']\n",
        "print(labels)\n",
        "del data['label']\n",
        "print(data)\n",
        "X_train, X_test, y_train, y_test = train_test_split(data, labels, random_state=42)\n"
      ],
      "metadata": {
        "id": "M07NMK2NJOBW",
        "colab": {
          "base_uri": "https://localhost:8080/"
        },
        "outputId": "9472345f-0e9d-431b-cb70-96c2f40c155a"
      },
      "execution_count": 3,
      "outputs": [
        {
          "output_type": "stream",
          "name": "stdout",
          "text": [
            "0       0\n",
            "1       0\n",
            "2       0\n",
            "3       0\n",
            "4       0\n",
            "       ..\n",
            "3262    1\n",
            "3263    1\n",
            "3264    1\n",
            "3265    1\n",
            "3266    1\n",
            "Name: label, Length: 4798, dtype: int64\n",
            "      nAcid   ALogP     ALogp2       AMR       apol  naAromAtom  nAromBond  \\\n",
            "0         0  0.3167   0.100299   93.1538  59.369790           0          0   \n",
            "1         0 -0.1076   0.011578   12.5551   8.322758           0          0   \n",
            "2         0 -6.1574  37.913575   71.4075  70.194478           0          0   \n",
            "3         0  0.1474   0.021727  111.3365  59.298239          12         12   \n",
            "4         0  2.0343   4.138376  111.6621  52.737102          17         17   \n",
            "...     ...     ...        ...       ...        ...         ...        ...   \n",
            "3262      0  0.0156   0.000243   36.0792  49.854688          12         18   \n",
            "3263      0  2.9489   8.696011   47.2341  51.488688          15         16   \n",
            "3264      0  1.0695   1.143830   41.6922  52.146274          12         18   \n",
            "3265      0  0.9468   0.896430   40.0962  39.496723          11         11   \n",
            "3266      0  0.4072   0.165812   37.2875  49.854688          12         18   \n",
            "\n",
            "      nAtom  nHeavyAtom  nH  ...       P1s       P2s       E1s       E2s  \\\n",
            "0        54          24  30  ...  0.711773  0.188346  0.553294  0.477086   \n",
            "1         9           3   6  ...  0.512025  0.325356  0.726814  0.483251   \n",
            "2        69          23  46  ...  0.980921  0.011717  0.569393  0.702952   \n",
            "3        49          26  23  ...  0.710294  0.251665  0.542058  0.344826   \n",
            "4        39          25  14  ...  0.603228  0.303013  0.396890  0.400476   \n",
            "...     ...         ...  ..  ...       ...       ...       ...       ...   \n",
            "3262     40          24  16  ...  0.691037  0.243540  0.440323  0.357745   \n",
            "3263     38          22  16  ...  0.895114  0.081065  0.625523  0.404205   \n",
            "3264     42          24  18  ...  0.533154  0.429848  0.410084  0.439250   \n",
            "3265     29          18  11  ...  0.900160  0.057880  0.669195  0.339410   \n",
            "3266     40          24  16  ...  0.550898  0.386080  0.385769  0.419329   \n",
            "\n",
            "           E3s         Ts         As          Vs        Ks        Ds  \n",
            "0     0.467878  13.376479  40.073992   85.498888  0.567659  1.498258  \n",
            "1     0.399670   2.153782   1.404458    3.828902  0.268037  1.609735  \n",
            "2     0.612302  70.135484  92.481144  191.807298  0.971382  1.884647  \n",
            "3     0.305926  19.520346  82.057894  152.158543  0.565441  1.192811  \n",
            "4     0.270124  14.019949  52.629480  113.876951  0.404842  1.067491  \n",
            "...        ...        ...        ...         ...       ...       ...  \n",
            "3262  0.416536  20.004758  91.818932  199.969827  0.536555  1.214604  \n",
            "3263  0.285798  29.215395  81.782673  154.101361  0.842671  1.315526  \n",
            "3264  0.378956  19.251613  98.143068  177.894205  0.444502  1.228291  \n",
            "3265  0.497993  23.065408  49.105061   98.997038  0.850240  1.506598  \n",
            "3266  0.371059  17.516065  83.373468  172.925259  0.405468  1.176156  \n",
            "\n",
            "[4798 rows x 1875 columns]\n"
          ]
        }
      ]
    },
    {
      "cell_type": "code",
      "source": [
        "import tensorflow as tf\n",
        "import keras\n",
        "\n",
        "model = keras.Sequential()\n",
        "model.add(keras.layers.Dense(512, activation='relu', input_dim=1875))\n",
        "model.add(keras.layers.Dense(512, activation='relu'))\n",
        "model.add(keras.layers.Dense(1))\n",
        "model.compile(optimizer='adam', loss='binary_crossentropy', metrics=['accuracy'])\n",
        "\n",
        "#https://www.atmosera.com/blog/binary-classification-with-neural-networks/"
      ],
      "metadata": {
        "id": "VqTW6gPY0WIt"
      },
      "execution_count": 11,
      "outputs": []
    },
    {
      "cell_type": "code",
      "source": [
        "hist = model.fit(X_train, y_train, epochs=40, batch_size=10, validation_split=0.2)"
      ],
      "metadata": {
        "colab": {
          "base_uri": "https://localhost:8080/"
        },
        "id": "8edfeUYz1ucE",
        "outputId": "d9889108-7077-4e25-e3eb-18a3b2a23dd8"
      },
      "execution_count": 12,
      "outputs": [
        {
          "output_type": "stream",
          "name": "stdout",
          "text": [
            "Epoch 1/40\n",
            "288/288 [==============================] - 6s 5ms/step - loss: 8.9664 - accuracy: 0.4187 - val_loss: 9.2764 - val_accuracy: 0.3986\n",
            "Epoch 2/40\n",
            "288/288 [==============================] - 1s 5ms/step - loss: 9.0256 - accuracy: 0.4149 - val_loss: 9.2764 - val_accuracy: 0.3986\n",
            "Epoch 3/40\n",
            "288/288 [==============================] - 2s 6ms/step - loss: 9.0256 - accuracy: 0.4149 - val_loss: 9.2764 - val_accuracy: 0.3986\n",
            "Epoch 4/40\n",
            "288/288 [==============================] - 1s 4ms/step - loss: 9.0256 - accuracy: 0.4149 - val_loss: 9.2764 - val_accuracy: 0.3986\n",
            "Epoch 5/40\n",
            "288/288 [==============================] - 1s 4ms/step - loss: 9.0256 - accuracy: 0.4149 - val_loss: 9.2764 - val_accuracy: 0.3986\n",
            "Epoch 6/40\n",
            "288/288 [==============================] - 1s 4ms/step - loss: 9.0256 - accuracy: 0.4149 - val_loss: 9.2764 - val_accuracy: 0.3986\n",
            "Epoch 7/40\n",
            "288/288 [==============================] - 1s 4ms/step - loss: 9.0256 - accuracy: 0.4149 - val_loss: 9.2764 - val_accuracy: 0.3986\n",
            "Epoch 8/40\n",
            "288/288 [==============================] - 1s 4ms/step - loss: 9.0256 - accuracy: 0.4149 - val_loss: 9.2764 - val_accuracy: 0.3986\n",
            "Epoch 9/40\n",
            "288/288 [==============================] - 1s 5ms/step - loss: 9.0256 - accuracy: 0.4149 - val_loss: 9.2764 - val_accuracy: 0.3986\n",
            "Epoch 10/40\n",
            "288/288 [==============================] - 1s 4ms/step - loss: 9.0256 - accuracy: 0.4149 - val_loss: 9.2764 - val_accuracy: 0.3986\n",
            "Epoch 11/40\n",
            "288/288 [==============================] - 2s 6ms/step - loss: 9.0256 - accuracy: 0.4149 - val_loss: 9.2764 - val_accuracy: 0.3986\n",
            "Epoch 12/40\n",
            "288/288 [==============================] - 2s 6ms/step - loss: 9.0256 - accuracy: 0.4149 - val_loss: 9.2764 - val_accuracy: 0.3986\n",
            "Epoch 13/40\n",
            "288/288 [==============================] - 1s 4ms/step - loss: 9.0256 - accuracy: 0.4149 - val_loss: 9.2764 - val_accuracy: 0.3986\n",
            "Epoch 14/40\n",
            "288/288 [==============================] - 1s 4ms/step - loss: 9.0256 - accuracy: 0.4149 - val_loss: 9.2764 - val_accuracy: 0.3986\n",
            "Epoch 15/40\n",
            "288/288 [==============================] - 1s 4ms/step - loss: 9.0256 - accuracy: 0.4149 - val_loss: 9.2764 - val_accuracy: 0.3986\n",
            "Epoch 16/40\n",
            "288/288 [==============================] - 1s 4ms/step - loss: 9.0256 - accuracy: 0.4149 - val_loss: 9.2764 - val_accuracy: 0.3986\n",
            "Epoch 17/40\n",
            "288/288 [==============================] - 1s 4ms/step - loss: 9.0256 - accuracy: 0.4149 - val_loss: 9.2764 - val_accuracy: 0.3986\n",
            "Epoch 18/40\n",
            "288/288 [==============================] - 1s 4ms/step - loss: 9.0256 - accuracy: 0.4149 - val_loss: 9.2764 - val_accuracy: 0.3986\n",
            "Epoch 19/40\n",
            "288/288 [==============================] - 1s 4ms/step - loss: 9.0256 - accuracy: 0.4149 - val_loss: 9.2764 - val_accuracy: 0.3986\n",
            "Epoch 20/40\n",
            "288/288 [==============================] - 1s 4ms/step - loss: 9.0256 - accuracy: 0.4149 - val_loss: 9.2764 - val_accuracy: 0.3986\n",
            "Epoch 21/40\n",
            "288/288 [==============================] - 1s 4ms/step - loss: 9.0256 - accuracy: 0.4149 - val_loss: 9.2764 - val_accuracy: 0.3986\n",
            "Epoch 22/40\n",
            "288/288 [==============================] - 2s 6ms/step - loss: 9.0256 - accuracy: 0.4149 - val_loss: 9.2764 - val_accuracy: 0.3986\n",
            "Epoch 23/40\n",
            "288/288 [==============================] - 1s 4ms/step - loss: 9.0256 - accuracy: 0.4149 - val_loss: 9.2764 - val_accuracy: 0.3986\n",
            "Epoch 24/40\n",
            "288/288 [==============================] - 1s 4ms/step - loss: 9.0256 - accuracy: 0.4149 - val_loss: 9.2764 - val_accuracy: 0.3986\n",
            "Epoch 25/40\n",
            "288/288 [==============================] - 1s 4ms/step - loss: 9.0256 - accuracy: 0.4149 - val_loss: 9.2764 - val_accuracy: 0.3986\n",
            "Epoch 26/40\n",
            "288/288 [==============================] - 1s 4ms/step - loss: 9.0256 - accuracy: 0.4149 - val_loss: 9.2764 - val_accuracy: 0.3986\n",
            "Epoch 27/40\n",
            "288/288 [==============================] - 1s 4ms/step - loss: 9.0256 - accuracy: 0.4149 - val_loss: 9.2764 - val_accuracy: 0.3986\n",
            "Epoch 28/40\n",
            "288/288 [==============================] - 1s 4ms/step - loss: 9.0256 - accuracy: 0.4149 - val_loss: 9.2764 - val_accuracy: 0.3986\n",
            "Epoch 29/40\n",
            "288/288 [==============================] - 1s 4ms/step - loss: 9.0256 - accuracy: 0.4149 - val_loss: 9.2764 - val_accuracy: 0.3986\n",
            "Epoch 30/40\n",
            "288/288 [==============================] - 1s 4ms/step - loss: 9.0256 - accuracy: 0.4149 - val_loss: 9.2764 - val_accuracy: 0.3986\n",
            "Epoch 31/40\n",
            "288/288 [==============================] - 1s 4ms/step - loss: 9.0256 - accuracy: 0.4149 - val_loss: 9.2764 - val_accuracy: 0.3986\n",
            "Epoch 32/40\n",
            "288/288 [==============================] - 1s 5ms/step - loss: 9.0256 - accuracy: 0.4149 - val_loss: 9.2764 - val_accuracy: 0.3986\n",
            "Epoch 33/40\n",
            "288/288 [==============================] - 1s 5ms/step - loss: 9.0256 - accuracy: 0.4149 - val_loss: 9.2764 - val_accuracy: 0.3986\n",
            "Epoch 34/40\n",
            "288/288 [==============================] - 1s 4ms/step - loss: 9.0256 - accuracy: 0.4149 - val_loss: 9.2764 - val_accuracy: 0.3986\n",
            "Epoch 35/40\n",
            "288/288 [==============================] - 1s 4ms/step - loss: 9.0256 - accuracy: 0.4149 - val_loss: 9.2764 - val_accuracy: 0.3986\n",
            "Epoch 36/40\n",
            "288/288 [==============================] - 1s 4ms/step - loss: 9.0256 - accuracy: 0.4149 - val_loss: 9.2764 - val_accuracy: 0.3986\n",
            "Epoch 37/40\n",
            "288/288 [==============================] - 1s 4ms/step - loss: 9.0256 - accuracy: 0.4149 - val_loss: 9.2764 - val_accuracy: 0.3986\n",
            "Epoch 38/40\n",
            "288/288 [==============================] - 1s 4ms/step - loss: 9.0256 - accuracy: 0.4149 - val_loss: 9.2764 - val_accuracy: 0.3986\n",
            "Epoch 39/40\n",
            "288/288 [==============================] - 1s 4ms/step - loss: 9.0256 - accuracy: 0.4149 - val_loss: 9.2764 - val_accuracy: 0.3986\n",
            "Epoch 40/40\n",
            "288/288 [==============================] - 1s 4ms/step - loss: 9.0256 - accuracy: 0.4149 - val_loss: 9.2764 - val_accuracy: 0.3986\n"
          ]
        }
      ]
    },
    {
      "cell_type": "code",
      "source": [
        "import matplotlib.pyplot as plt\n",
        "import seaborn as sns\n",
        "sns.set()\n",
        " \n",
        "acc = hist.history['accuracy']\n",
        "val = hist.history['val_accuracy']\n",
        "epochs = range(1, len(acc) + 1)\n",
        " \n",
        "plt.plot(epochs, acc, '-', label='Training accuracy')\n",
        "plt.plot(epochs, val, ':', label='Validation accuracy')\n",
        "plt.title('Training and Validation Accuracy')\n",
        "plt.xlabel('Epoch')\n",
        "plt.ylabel('Accuracy')\n",
        "plt.legend(loc='lower right')\n",
        "plt.plot()"
      ],
      "metadata": {
        "colab": {
          "base_uri": "https://localhost:8080/",
          "height": 318
        },
        "id": "hwUn5IyP2X-p",
        "outputId": "9c289c4b-aec4-423a-d925-519994f860a6"
      },
      "execution_count": 13,
      "outputs": [
        {
          "output_type": "execute_result",
          "data": {
            "text/plain": [
              "[]"
            ]
          },
          "metadata": {},
          "execution_count": 13
        },
        {
          "output_type": "display_data",
          "data": {
            "text/plain": [
              "<Figure size 432x288 with 1 Axes>"
            ],
            "image/png": "[encoded data removed]"
          },
          "metadata": {}
        }
      ]
    },
    {
      "cell_type": "code",
      "source": [
        "from sklearn.metrics import confusion_matrix\n",
        " \n",
        "y_predicted = model.predict(X_test) > 0.5\n",
        "mat = confusion_matrix(y_test, y_predicted)\n",
        "labels = ['Legitimate', 'Fraudulent']\n",
        " \n",
        "sns.heatmap(mat, square=True, annot=True, fmt='d', cbar=False, cmap='Blues',\n",
        "            xticklabels=labels, yticklabels=labels)\n",
        " \n",
        "plt.xlabel('Predicted label')\n",
        "plt.ylabel('Actual label')"
      ],
      "metadata": {
        "colab": {
          "base_uri": "https://localhost:8080/",
          "height": 320
        },
        "id": "I68fs_Az2mhZ",
        "outputId": "100003b3-4cf7-4798-a3d0-b49abd9174c1"
      },
      "execution_count": 15,
      "outputs": [
        {
          "output_type": "stream",
          "name": "stdout",
          "text": [
            "38/38 [==============================] - 0s 2ms/step\n"
          ]
        },
        {
          "output_type": "execute_result",
          "data": {
            "text/plain": [
              "Text(89.18, 0.5, 'Actual label')"
            ]
          },
          "metadata": {},
          "execution_count": 15
        },
        {
          "output_type": "display_data",
          "data": {
            "text/plain": [
              "<Figure size 432x288 with 1 Axes>"
            ],
            "image/png": "[encoded data removed]"
          },
          "metadata": {}
        }
      ]
    }
  ]
}