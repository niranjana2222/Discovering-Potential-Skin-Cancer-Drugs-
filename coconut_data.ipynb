{
  "nbformat": 4,
  "nbformat_minor": 0,
  "metadata": {
    "colab": {
      "provenance": [],
      "authorship_tag": "ABX9TyOZRy0uxPAZPc6JfH2zp6p0",
      "include_colab_link": true
    },
    "kernelspec": {
      "name": "python3",
      "display_name": "Python 3"
    },
    "language_info": {
      "name": "python"
    },
    "accelerator": "GPU",
    "gpuClass": "standard"
  },
  "cells": [
    {
      "cell_type": "markdown",
      "metadata": {
        "id": "view-in-github",
        "colab_type": "text"
      },
      "source": [
        "<a href=\"https://colab.research.google.com/github/niranjana2222/Discovering-Potential-Skin-Cancer-Drugs-/blob/main/coconut_data.ipynb\" target=\"_parent\"><img src=\"https://colab.research.google.com/assets/colab-badge.svg\" alt=\"Open In Colab\"/></a>"
      ]
    },
    {
      "cell_type": "code",
      "execution_count": 1,
      "metadata": {
        "colab": {
          "base_uri": "https://localhost:8080/"
        },
        "id": "71w5z9nc4YkY",
        "outputId": "05ea23e5-b06b-4392-cdbf-e7115e885717"
      },
      "outputs": [
        {
          "output_type": "stream",
          "name": "stdout",
          "text": [
            "             nAcid        ALogP        ALogp2          AMR         apol  \\\n",
            "count  4898.000000  4898.000000  4.898000e+03  4898.000000  4898.000000   \n",
            "mean      0.257452    -1.486807  1.927531e+01   100.117082    61.329055   \n",
            "std       0.693379     4.131368  7.312384e+01    65.963328    49.048028   \n",
            "min       0.000000   -26.605000  4.000000e-08    18.353900    11.496000   \n",
            "25%       0.000000    -1.779775  2.793122e-01    49.050025    29.476723   \n",
            "50%       0.000000    -0.632100  1.329294e+00    91.739700    52.388635   \n",
            "75%       0.000000     0.429800  4.420086e+00   120.632275    68.453790   \n",
            "max       8.000000    12.433500  7.078260e+02   553.738300   341.216740   \n",
            "\n",
            "        naAromAtom    nAromBond        nAtom   nHeavyAtom           nH  ...  \\\n",
            "count  4898.000000  4898.000000  4898.000000  4898.000000  4898.000000  ...   \n",
            "mean      5.339526     5.444059    55.782360    27.276031    28.506329  ...   \n",
            "std       5.837993     5.935278    47.675842    20.727068    27.534159  ...   \n",
            "min       0.000000     0.000000     8.000000     6.000000     0.000000  ...   \n",
            "25%       0.000000     0.000000    26.000000    12.000000    13.000000  ...   \n",
            "50%       5.000000     5.000000    46.000000    24.000000    22.000000  ...   \n",
            "75%       9.000000    10.000000    61.000000    31.000000    30.000000  ...   \n",
            "max      40.000000    40.000000   319.000000   144.000000   190.000000  ...   \n",
            "\n",
            "               P1s          P2s          E1s          E2s          E3s  \\\n",
            "count  3456.000000  3456.000000  3456.000000  3456.000000  3456.000000   \n",
            "mean      0.746764     0.196152     0.555631     0.467646     0.408520   \n",
            "std       0.111465     0.102359     1.038211     0.809891     2.296483   \n",
            "min       0.392100    -0.072199     0.322518     0.067106     0.028999   \n",
            "25%       0.665716     0.113364     0.492359     0.403746     0.334249   \n",
            "50%       0.752918     0.182399     0.531228     0.447013     0.389119   \n",
            "75%       0.829835     0.269312     0.564395     0.489764     0.433012   \n",
            "max       1.332417     0.473354    54.656858    33.998688   135.223909   \n",
            "\n",
            "                Ts           As           Vs           Ks           Ds  \n",
            "count  3456.000000  3456.000000  3456.000000  3456.000000  3456.000000  \n",
            "mean     17.897919    58.020309   125.657152     0.628177     1.431798  \n",
            "std      14.279115    61.828760   148.999788     0.155822     3.656799  \n",
            "min       3.208480  -193.801431 -1373.256658     0.118981     0.886110  \n",
            "25%       7.203802    11.385688    22.097084     0.499999     1.262011  \n",
            "50%      15.762458    46.357962    93.367387     0.629377     1.346422  \n",
            "75%      22.874027    85.895492   187.035164     0.744753     1.430555  \n",
            "max     164.687568  1492.268454  2961.804537     1.498626   197.579218  \n",
            "\n",
            "[8 rows x 1875 columns]\n",
            "   nAcid   ALogP     ALogp2       AMR       apol  naAromAtom  nAromBond  \\\n",
            "0      0  0.2075   0.043056   68.5540  45.641067           0          0   \n",
            "1      1 -3.5681  12.731338  150.7911  88.654548           0          0   \n",
            "2      0 -0.0404   0.001632  167.5336  87.863790           0          0   \n",
            "3      0  0.3937   0.155000  155.8521  80.874618           0          0   \n",
            "4      0  5.4157  29.329806  155.9307  90.897306           0          0   \n",
            "\n",
            "   nAtom  nHeavyAtom  nH  ...  P1s  P2s  E1s  E2s  E3s  Ts  As  Vs  Ks  Ds  \n",
            "0     41          22  19  ...  NaN  NaN  NaN  NaN  NaN NaN NaN NaN NaN NaN  \n",
            "1     81          45  36  ...  NaN  NaN  NaN  NaN  NaN NaN NaN NaN NaN NaN  \n",
            "2     74          44  30  ...  NaN  NaN  NaN  NaN  NaN NaN NaN NaN NaN NaN  \n",
            "3     67          41  26  ...  NaN  NaN  NaN  NaN  NaN NaN NaN NaN NaN NaN  \n",
            "4     81          39  42  ...  NaN  NaN  NaN  NaN  NaN NaN NaN NaN NaN NaN  \n",
            "\n",
            "[5 rows x 1875 columns]\n",
            "Size (4898, 1875)\n",
            "RDF30s  RDF50s           1.0\n",
            "RDF50s  RDF30s           1.0\n",
            "RDF55s  RDF20s           1.0\n",
            "RDF20s  RDF55s           1.0\n",
            "RDF40s  RDF10s           1.0\n",
            "                        ... \n",
            "Ds      n11HeteroRing    NaN\n",
            "        n12HeteroRing    NaN\n",
            "        nFHeteroRing     NaN\n",
            "        nF4HeteroRing    NaN\n",
            "        nTHeteroRing     NaN\n",
            "Length: 3515625, dtype: float64\n",
            "Corr\n",
            " 1.000000    1863\n",
            "1.000000      52\n",
            "1.000000      30\n",
            "1.000000      30\n",
            "1.000000      30\n",
            "            ... \n",
            "0.457918       2\n",
            "0.287364       2\n",
            "0.337519       2\n",
            "0.113868       2\n",
            "0.065877       2\n",
            "Length: 1331389, dtype: int64\n",
            "RDF15s     1.834164e+33\n",
            "RDF25s     9.964847e+32\n",
            "RDF40s     7.865650e+32\n",
            "RDF30s     4.775264e+32\n",
            "RDF20s     3.701430e+32\n",
            "               ...     \n",
            "maxsssB    0.000000e+00\n",
            "nsssGeH    0.000000e+00\n",
            "nssssGe    0.000000e+00\n",
            "nsAsH2     0.000000e+00\n",
            "minssBH    0.000000e+00\n",
            "Length: 1875, dtype: float64\n",
            "Range\n",
            " 0.000000      188\n",
            "1.000000       36\n",
            "6.000000       20\n",
            "2.000000       20\n",
            "4.000000       11\n",
            "             ... \n",
            "1.625195        1\n",
            "1.350128        1\n",
            "4.046649        1\n",
            "3.340961        1\n",
            "196.693107      1\n",
            "Length: 1482, dtype: int64\n",
            "Ds              1442\n",
            "RDF95u          1442\n",
            "RDF40u          1442\n",
            "RDF45u          1442\n",
            "RDF50u          1442\n",
            "                ... \n",
            "n6HeteroRing       0\n",
            "n7HeteroRing       0\n",
            "n8HeteroRing       0\n",
            "n9HeteroRing       0\n",
            "nAcid              0\n",
            "Length: 1875, dtype: int64\n",
            "Null\n",
            " 5         1\n",
            "4        62\n",
            "1442    431\n",
            "0       685\n",
            "1       696\n",
            "dtype: int64\n"
          ]
        }
      ],
      "source": [
        "import pandas as pd\n",
        "import numpy as np\n",
        "import matplotlib.pyplot as plt\n",
        "import seaborn as sns\n",
        "import os\n",
        "\n",
        "###Analyze Data####\n",
        "data = pd.read_csv('/content/coconut.csv')\n",
        "print(data.describe())\n",
        "print(data.head())\n",
        "print(\"Size\", data.shape)\n",
        "\n",
        "corr = data.corr().abs()\n",
        "corr2 = corr.unstack()\n",
        "print(corr2.sort_values(kind=\"quicksort\", ascending=False))\n",
        "print(\"Corr\\n\", corr2.value_counts())\n",
        "\n",
        "print((data.max()-data.min()).sort_values(kind=\"quicksort\", ascending=False))\n",
        "print(\"Range\\n\", (data.max()-data.min()).value_counts())\n",
        "\n",
        "print(data.isnull().sum().sort_values(kind=\"quicksort\", ascending=False))\n",
        "print(\"Null\\n\", data.isnull().sum().value_counts().sort_values(kind=\"quicksort\"))\n"
      ]
    },
    {
      "cell_type": "code",
      "source": [
        "#correlation graph \n",
        "corr3 = corr2.value_counts().rename_axis('unique_values').to_frame('counts')\n",
        "print(corr3)\n",
        "corr3[:1].plot(kind='barh', title='correlation')"
      ],
      "metadata": {
        "colab": {
          "base_uri": "https://localhost:8080/",
          "height": 567
        },
        "id": "XVIXYXk7TLev",
        "outputId": "8cbb5552-a26a-41d7-c80a-addd99a04b45"
      },
      "execution_count": 2,
      "outputs": [
        {
          "output_type": "stream",
          "name": "stdout",
          "text": [
            "               counts\n",
            "unique_values        \n",
            "1.000000         1863\n",
            "1.000000           52\n",
            "1.000000           30\n",
            "1.000000           30\n",
            "1.000000           30\n",
            "...               ...\n",
            "0.457918            2\n",
            "0.287364            2\n",
            "0.337519            2\n",
            "0.113868            2\n",
            "0.065877            2\n",
            "\n",
            "[1331389 rows x 1 columns]\n"
          ]
        },
        {
          "output_type": "execute_result",
          "data": {
            "text/plain": [
              "<matplotlib.axes._subplots.AxesSubplot at 0x7ff186cc28e0>"
            ]
          },
          "metadata": {},
          "execution_count": 2
        },
        {
          "output_type": "display_data",
          "data": {
            "text/plain": [
              "<Figure size 432x288 with 1 Axes>"
            ],
            "image/png": "[encoded data removed]"
          },
          "metadata": {
            "needs_background": "light"
          }
        }
      ]
    },
    {
      "cell_type": "code",
      "source": [
        "#some descriptor boxplots \n",
        "boxplot_nat = data.boxplot(column=['nAcid', 'ALogP', 'ALogp2' , 'AMR' , 'apol'])"
      ],
      "metadata": {
        "colab": {
          "base_uri": "https://localhost:8080/",
          "height": 265
        },
        "id": "JJi8PJqUKH17",
        "outputId": "5da3ded1-e3c2-46f0-c1b2-8f663fc410f2"
      },
      "execution_count": 3,
      "outputs": [
        {
          "output_type": "display_data",
          "data": {
            "text/plain": [
              "<Figure size 432x288 with 1 Axes>"
            ],
            "image/png": "[encoded data removed]"
          },
          "metadata": {
            "needs_background": "light"
          }
        }
      ]
    },
    {
      "cell_type": "code",
      "source": [
        "#null values\n",
        "null = data.isnull().sum().value_counts().rename_axis('unique_values').to_frame('counts')\n",
        "#null.plot(kind='barh')\n"
      ],
      "metadata": {
        "id": "c2qs8pghIzZV"
      },
      "execution_count": 4,
      "outputs": []
    },
    {
      "cell_type": "code",
      "source": [
        "data = data.dropna(axis=1)\n",
        "print(data.shape)"
      ],
      "metadata": {
        "colab": {
          "base_uri": "https://localhost:8080/"
        },
        "id": "qQsBMPJTyA9D",
        "outputId": "672ab886-87b7-41c9-d80c-3c08236614a5"
      },
      "execution_count": 5,
      "outputs": [
        {
          "output_type": "stream",
          "name": "stdout",
          "text": [
            "(4898, 685)\n"
          ]
        }
      ]
    },
    {
      "cell_type": "code",
      "source": [
        "data = data.dropna()\n",
        "print(data.shape)"
      ],
      "metadata": {
        "colab": {
          "base_uri": "https://localhost:8080/"
        },
        "id": "FmMNCyjJxFnJ",
        "outputId": "3339b1f8-4ff3-4cbb-f556-fc92d1ebd64a"
      },
      "execution_count": 6,
      "outputs": [
        {
          "output_type": "stream",
          "name": "stdout",
          "text": [
            "(4898, 685)\n"
          ]
        }
      ]
    },
    {
      "cell_type": "code",
      "source": [
        "\"\"\"\n",
        "#imputer try\n",
        "from sklearn.experimental import enable_iterative_imputer  # noqa\n",
        "from sklearn.impute import IterativeImputer\n",
        "\n",
        "for col in data.columns:\n",
        "    if np.inf in set(data[col]):\n",
        "        print(col, \" \", data[col].value_counts())\n",
        "\n",
        "data = data.replace([np.inf, -np.inf], np.nan)\n",
        "print(np.any(np.isnan(data)))\n",
        "print(np.all(np.isfinite(data)))\n",
        "\n",
        "imp_mean = IterativeImputer(random_state=0)\n",
        "imp_mean.fit(data)\n",
        "IterativeImputer(random_state=0)\n",
        "data2 = imp_mean.transform(data)\n",
        "print(data2.isnull().sum().sort_values(kind=\"quicksort\", ascending=False))\n",
        "print(\"Range\\n\", (data2.max()-data2.min()).value_counts())\n",
        "\"\"\"\n"
      ],
      "metadata": {
        "colab": {
          "base_uri": "https://localhost:8080/",
          "height": 178
        },
        "id": "DzuTR-03J3YA",
        "outputId": "caa56f43-4d0f-4fe0-9353-d8433e6d63b4"
      },
      "execution_count": 7,
      "outputs": [
        {
          "output_type": "execute_result",
          "data": {
            "text/plain": [
              "'\\n#imputer try\\nfrom sklearn.experimental import enable_iterative_imputer  # noqa\\nfrom sklearn.impute import IterativeImputer\\n\\nfor col in data.columns:\\n    if np.inf in set(data[col]):\\n        print(col, \" \", data[col].value_counts())\\n\\ndata = data.replace([np.inf, -np.inf], np.nan)\\nprint(np.any(np.isnan(data)))\\nprint(np.all(np.isfinite(data)))\\n\\nimp_mean = IterativeImputer(random_state=0)\\nimp_mean.fit(data)\\nIterativeImputer(random_state=0)\\ndata2 = imp_mean.transform(data)\\nprint(data2.isnull().sum().sort_values(kind=\"quicksort\", ascending=False))\\nprint(\"Range\\n\", (data2.max()-data2.min()).value_counts())\\n'"
            ],
            "application/vnd.google.colaboratory.intrinsic+json": {
              "type": "string"
            }
          },
          "metadata": {},
          "execution_count": 7
        }
      ]
    }
  ]
}